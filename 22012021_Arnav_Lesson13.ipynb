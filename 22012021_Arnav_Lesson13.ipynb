{
  "nbformat": 4,
  "nbformat_minor": 0,
  "metadata": {
    "colab": {
      "name": "22012021_Arnav_Lesson13",
      "provenance": [],
      "collapsed_sections": [],
      "include_colab_link": true
    },
    "kernelspec": {
      "name": "python3",
      "display_name": "Python 3"
    }
  },
  "cells": [
    {
      "cell_type": "markdown",
      "metadata": {
        "id": "view-in-github",
        "colab_type": "text"
      },
      "source": [
        "<a href=\"https://colab.research.google.com/github/PieBot314/Python_Collab/blob/main/22012021_Arnav_Lesson13.ipynb\" target=\"_parent\"><img src=\"https://colab.research.google.com/assets/colab-badge.svg\" alt=\"Open In Colab\"/></a>"
      ]
    },
    {
      "cell_type": "markdown",
      "metadata": {
        "id": "KZngaph1E1HU"
      },
      "source": [
        "# Lesson 13: Pandas Series"
      ]
    },
    {
      "cell_type": "markdown",
      "metadata": {
        "id": "9xQQ4vHgQBSN"
      },
      "source": [
        "### Teacher-Student Activities\n",
        "\n",
        "Before we go ahead with more concepts on Machine Learning and Artificial Intelligence, let's first learn a bit of Data Analysis, so that you can get a better understanding of data. Every dataset tells you a story if you look at it through the right lenses.\n",
        "\n",
        "To give you a perspective, imagine that you have data on the number of sales happening in every month of every single shop in your city. You would notice that during the festivals, the sales volume of sweets rises by a tremendous magnitude. Similarly, the sales volume of clothes, jewellery and electronic products also rose significantly in this period.\n",
        "\n",
        "If you have the tourism data, then you would see that a lot of people in India go on a vacation in the months of May and June, which makes sense because schools are closed in these two months due to summer vacation.\n",
        "\n",
        "Through data, you can observe a trend and based on that trend you can draw meaningful insights, helping you in making decisions in your daily life, in business organisations, in medical and engineering applications etc. \n",
        "\n",
        "When it comes to Data Analysis in Python, we use a module called Pandas which is specifically designed to manipulate, manage and analyse a huge amount of data by creating Pandas Series and Pandas DataFrames. \n",
        "\n",
        "In this lesson, we will learn about the Pandas Series."
      ]
    },
    {
      "cell_type": "markdown",
      "metadata": {
        "id": "crUqZtm_BRK6"
      },
      "source": [
        "---"
      ]
    },
    {
      "cell_type": "markdown",
      "metadata": {
        "id": "2jtEZd96SmI9"
      },
      "source": [
        "#### Pandas Series \n",
        "\n",
        "A Pandas series is a one-dimensional array which can hold various data types. It is similar to a Python list and a NumPy array.\n",
        "\n",
        "Without going too much into the theory, let's get started with the Pandas series right away. At the end of the class, we will learn when to use a Python list, a NumPy array and a Pandas series."
      ]
    },
    {
      "cell_type": "markdown",
      "metadata": {
        "id": "PiRvtjf1BXlV"
      },
      "source": [
        "---"
      ]
    },
    {
      "cell_type": "markdown",
      "metadata": {
        "id": "6VYKPpnVavVx"
      },
      "source": [
        "#### Activity 1: Python List To Pandas Series Conversion\n",
        "\n",
        "Let's understand the Pandas series through an example. Suppose there are `30` students in your class and their weights vary in the range of `45` to `60` kg (both inclusive).\n",
        "\n",
        "We can create a Pandas series containing the weights of the students by first creating a Python list and then converting it to a Pandas series. To create a Pandas series, you have to first import the `pandas` module using the `import` keyword. \n",
        "\n",
        "```\n",
        "import pandas as pd\n",
        "```\n",
        "\n",
        "Here, `pd` is an alias (or nickname) for `pandas`\n",
        "\n",
        "Then you can call the `Series()` function to convert a Python list or a NumPy array into a Pandas series.\n",
        "\n",
        "```\n",
        "weights = pd.Series([random.randint(45, 60) for i in range(30)])\n",
        "```\n",
        "\n",
        "**Note:** Unlike other functions, the `Series()` function begins with the uppercase letter `S`."
      ]
    },
    {
      "cell_type": "code",
      "metadata": {
        "id": "EMr9AICpP2wY",
        "colab": {
          "base_uri": "https://localhost:8080/"
        },
        "outputId": "786c7460-70da-46ee-f39b-c42ad7faa681"
      },
      "source": [
        "# Teacher Action: Create a Pandas series containing 30 random integers between 45 and 60.\n",
        "import pandas as pd, random\n",
        "\n",
        "weights = pd.Series([random.randint(45,60) for i in range(0,30)])\n",
        "print(weights)\n",
        "weights.index"
      ],
      "execution_count": null,
      "outputs": [
        {
          "output_type": "stream",
          "text": [
            "0     50\n",
            "1     56\n",
            "2     55\n",
            "3     49\n",
            "4     56\n",
            "5     59\n",
            "6     47\n",
            "7     58\n",
            "8     55\n",
            "9     45\n",
            "10    55\n",
            "11    53\n",
            "12    50\n",
            "13    53\n",
            "14    45\n",
            "15    59\n",
            "16    48\n",
            "17    57\n",
            "18    56\n",
            "19    50\n",
            "20    52\n",
            "21    46\n",
            "22    49\n",
            "23    55\n",
            "24    58\n",
            "25    52\n",
            "26    54\n",
            "27    46\n",
            "28    59\n",
            "29    47\n",
            "dtype: int64\n"
          ],
          "name": "stdout"
        },
        {
          "output_type": "execute_result",
          "data": {
            "text/plain": [
              "RangeIndex(start=0, stop=30, step=1)"
            ]
          },
          "metadata": {
            "tags": []
          },
          "execution_count": 3
        }
      ]
    },
    {
      "cell_type": "markdown",
      "metadata": {
        "id": "UrDULktVb2Ji"
      },
      "source": [
        "The first column in the output represents the indices of all the items in the `weights` Pandas series. The second column contains the weights of the students. The data-type of each item is an `int`.\n",
        "\n",
        "**Note:** Ignore the `64` in the `int64` for the time being. \n",
        "\n",
        "Using the `Series()` function, you can convert any one-dimensional Python list into a Pandas series. Now, let's verify whether `weights` is a Pandas series or not."
      ]
    },
    {
      "cell_type": "code",
      "metadata": {
        "id": "TDnNWIjxz99A",
        "colab": {
          "base_uri": "https://localhost:8080/"
        },
        "outputId": "311f5e11-b3c0-4eba-93f4-31e36b9c3cf1"
      },
      "source": [
        "# Student Action: Verify the type of value stored in the 'weights' variable using the 'type()' function.\n",
        "type(weights)"
      ],
      "execution_count": null,
      "outputs": [
        {
          "output_type": "execute_result",
          "data": {
            "text/plain": [
              "pandas.core.series.Series"
            ]
          },
          "metadata": {
            "tags": []
          },
          "execution_count": 4
        }
      ]
    },
    {
      "cell_type": "markdown",
      "metadata": {
        "id": "9sOodrKz0K4O"
      },
      "source": [
        "The `type()` function returns `pandas.core.series.Series` as an output which confirms that `weights` is indeed a Pandas series. \n",
        "\n",
        "A Pandas series can also contain the items of multiple data-types. Recall that in the trial class we created 4 different variables to store the attributes of a planet.  \n",
        "\n",
        "||Mercury|\n",
        "|-|-|\n",
        "|Diameter (km)|4879|\n",
        "|Gravity ($m/s^2$)|3.7|\n",
        "|Ring|No|\n",
        "\n",
        "\n",
        "Let's store the name of a planet, its diameter, gravity and whether it has a ring or not in a Python list and then convert it into a pandas series.\n"
      ]
    },
    {
      "cell_type": "code",
      "metadata": {
        "id": "rsq1SJvObuMK",
        "colab": {
          "base_uri": "https://localhost:8080/"
        },
        "outputId": "14928ef2-8a8c-4748-83da-3f7bc8c3bc3f"
      },
      "source": [
        "# Student Action: Create a Python list which contains planet name, diameter, gravity and False if the planet has a ring.\n",
        "planet_info = ['Mercury', 4879, 3.7, False]\n",
        "\n",
        "# Convert the list into a Pandas series. Also, verify whether the list successfully is converted to a Pandas series or not.\n",
        "pd.Series(planet_info,)"
      ],
      "execution_count": null,
      "outputs": [
        {
          "output_type": "execute_result",
          "data": {
            "text/plain": [
              "0    Mercury\n",
              "1       4879\n",
              "2        3.7\n",
              "3      False\n",
              "dtype: object"
            ]
          },
          "metadata": {
            "tags": []
          },
          "execution_count": 6
        }
      ]
    },
    {
      "cell_type": "markdown",
      "metadata": {
        "id": "qYnWSTd-oEBY"
      },
      "source": [
        "Here the data-type is `object`. Pandas cannot return the data-type of every individual item. Hence, it has returned `object` data-type to represent one common data-type for all the items.\n",
        "\n",
        "You can also use the `size` keyword to find the number of items in a Pandas series."
      ]
    },
    {
      "cell_type": "code",
      "metadata": {
        "id": "PUa5uRc2Cysy",
        "colab": {
          "base_uri": "https://localhost:8080/"
        },
        "outputId": "4cc992c7-4ca3-4f43-d7d6-b10d84018b40"
      },
      "source": [
        "# Student Action: Find the number of items in the 'weights' Pandas series using the 'size' keyword.\n",
        "weights.size"
      ],
      "execution_count": null,
      "outputs": [
        {
          "output_type": "execute_result",
          "data": {
            "text/plain": [
              "30"
            ]
          },
          "metadata": {
            "tags": []
          },
          "execution_count": 8
        }
      ]
    },
    {
      "cell_type": "markdown",
      "metadata": {
        "id": "QtQA2xU0C94F"
      },
      "source": [
        "So, there are `30` items in the `weights` Pandas series. \n",
        "\n",
        "You can also use the `shape` keyword to find the number of rows and columns in a Pandas series."
      ]
    },
    {
      "cell_type": "code",
      "metadata": {
        "id": "-y9cRsdBDH-G",
        "colab": {
          "base_uri": "https://localhost:8080/"
        },
        "outputId": "3808cf85-c9a6-40b0-d2a1-a0716498a81a"
      },
      "source": [
        "# Student Action: Find the number of rows and columns in the 'weights' Pandas series using the 'shape' keyword.\n",
        "weights.shape"
      ],
      "execution_count": null,
      "outputs": [
        {
          "output_type": "execute_result",
          "data": {
            "text/plain": [
              "(30,)"
            ]
          },
          "metadata": {
            "tags": []
          },
          "execution_count": 9
        }
      ]
    },
    {
      "cell_type": "markdown",
      "metadata": {
        "id": "UiqBN8vsDOyh"
      },
      "source": [
        "So, there are `30` rows and `1` column in the `weights` Pandas series."
      ]
    },
    {
      "cell_type": "markdown",
      "metadata": {
        "id": "KGtlRcPDBfPd"
      },
      "source": [
        "---"
      ]
    },
    {
      "cell_type": "markdown",
      "metadata": {
        "id": "SLrh_iDB1M74"
      },
      "source": [
        "#### Activity 2: The `mean(), min(), max()` Functions \n",
        "\n",
        "The `mean()` function does not take any input and returns the average value of all the items as an output.\n",
        "\n",
        "To apply this function, you need to write the Pandas series; whose mean value you need to compute; followed by the dot (`.`) operator.\n"
      ]
    },
    {
      "cell_type": "code",
      "metadata": {
        "id": "Ce9nbvapc3HX",
        "colab": {
          "base_uri": "https://localhost:8080/"
        },
        "outputId": "2f41c9ea-9392-452c-e223-2ad3ebe374ec"
      },
      "source": [
        "# Student Action: Calculate the average value of all the numbers in a Pandas series.\n",
        "weights.mean()"
      ],
      "execution_count": null,
      "outputs": [
        {
          "output_type": "execute_result",
          "data": {
            "text/plain": [
              "52.46666666666667"
            ]
          },
          "metadata": {
            "tags": []
          },
          "execution_count": 10
        }
      ]
    },
    {
      "cell_type": "markdown",
      "metadata": {
        "id": "Xb62jTLtup7l"
      },
      "source": [
        "Similarly, you can also find the minimum and maximum values in a Pandas series using the `min()` and `max()` functions."
      ]
    },
    {
      "cell_type": "code",
      "metadata": {
        "id": "MoGFFlFGzm5_",
        "colab": {
          "base_uri": "https://localhost:8080/"
        },
        "outputId": "b1bf9d3d-7753-47cb-aab7-f913b9ab7158"
      },
      "source": [
        "# Student Action: Using the 'min()' and 'max()' functions, print the minimum and maximum values in the 'weights' Pandas series.\n",
        "weights.min()\n",
        "weights.max()"
      ],
      "execution_count": null,
      "outputs": [
        {
          "output_type": "execute_result",
          "data": {
            "text/plain": [
              "59"
            ]
          },
          "metadata": {
            "tags": []
          },
          "execution_count": 13
        }
      ]
    },
    {
      "cell_type": "markdown",
      "metadata": {
        "id": "1Aa8dT_nBg0U"
      },
      "source": [
        "---"
      ]
    },
    {
      "cell_type": "markdown",
      "metadata": {
        "id": "ppYm2Q9V3s2H"
      },
      "source": [
        "#### Activity 3: The `head()` And `tail()` Functions\n",
        "\n",
        "Sometimes instead of looking at the full dataset, we just want to look at the first few rows or the last few rows of the dataset. In such cases, we can use the `head()` and `tail()` function.\n",
        "\n",
        "The `head()` function shows the first five and the `tail()` function shows the last five items in a Pandas series."
      ]
    },
    {
      "cell_type": "code",
      "metadata": {
        "id": "C2mEBmQv1wmr",
        "colab": {
          "base_uri": "https://localhost:8080/"
        },
        "outputId": "40ca646f-e1e5-4023-c244-98c8f24b03d2"
      },
      "source": [
        "# Student Action: Print only the first 5 items in a Pandas series using the 'head()' function.\n",
        "print(weights.head())"
      ],
      "execution_count": null,
      "outputs": [
        {
          "output_type": "stream",
          "text": [
            "0    50\n",
            "1    56\n",
            "2    55\n",
            "3    49\n",
            "4    56\n",
            "dtype: int64\n"
          ],
          "name": "stdout"
        }
      ]
    },
    {
      "cell_type": "markdown",
      "metadata": {
        "id": "8vHjxvBe4mDU"
      },
      "source": [
        "The numbers in the first column in the output are the indices of each item in the Pandas series. Since we print the first five items, the indices range from `0` to `4`."
      ]
    },
    {
      "cell_type": "code",
      "metadata": {
        "id": "4BZ0vDmy4kWQ",
        "colab": {
          "base_uri": "https://localhost:8080/"
        },
        "outputId": "e89c5155-fd22-4c1c-9c3e-1c3d75706af5"
      },
      "source": [
        "# Student Action: Using the 'tail()' function, print the last 5 items in the Pandas series.\n",
        "print(weights.tail())"
      ],
      "execution_count": null,
      "outputs": [
        {
          "output_type": "stream",
          "text": [
            "25    52\n",
            "26    54\n",
            "27    46\n",
            "28    59\n",
            "29    47\n",
            "dtype: int64\n"
          ],
          "name": "stdout"
        }
      ]
    },
    {
      "cell_type": "markdown",
      "metadata": {
        "id": "-Z8RAfIr3wiO"
      },
      "source": [
        "Since we printed the last five items of the series, the indices range from `25` to `29`.\n",
        "\n",
        "Within the `head()` and `tail()` functions, you can specify the `n` number of first items and the `n` number of last items you wish to see in a Pandas series."
      ]
    },
    {
      "cell_type": "code",
      "metadata": {
        "id": "QX5A5rd23v01",
        "colab": {
          "base_uri": "https://localhost:8080/"
        },
        "outputId": "50d0e6e5-93d7-4270-9ac6-3fe40658628c"
      },
      "source": [
        "# Student Action: Using the 'head()' function, print the first 8 items of the weights series.\n",
        "weights.head(8)"
      ],
      "execution_count": null,
      "outputs": [
        {
          "output_type": "execute_result",
          "data": {
            "text/plain": [
              "0    50\n",
              "1    56\n",
              "2    55\n",
              "3    49\n",
              "4    56\n",
              "5    59\n",
              "6    47\n",
              "7    58\n",
              "dtype: int64"
            ]
          },
          "metadata": {
            "tags": []
          },
          "execution_count": 19
        }
      ]
    },
    {
      "cell_type": "code",
      "metadata": {
        "id": "jG3-LcqW4Xps",
        "colab": {
          "base_uri": "https://localhost:8080/"
        },
        "outputId": "68eee056-956e-46de-f348-e3ce70c51de6"
      },
      "source": [
        "# Student Action: Using the 'tail()' function, print the last 12 items of the weights series.\n",
        "weights.head(13)"
      ],
      "execution_count": null,
      "outputs": [
        {
          "output_type": "execute_result",
          "data": {
            "text/plain": [
              "0     50\n",
              "1     56\n",
              "2     55\n",
              "3     49\n",
              "4     56\n",
              "5     59\n",
              "6     47\n",
              "7     58\n",
              "8     55\n",
              "9     45\n",
              "10    55\n",
              "11    53\n",
              "12    50\n",
              "dtype: int64"
            ]
          },
          "metadata": {
            "tags": []
          },
          "execution_count": 20
        }
      ]
    },
    {
      "cell_type": "markdown",
      "metadata": {
        "id": "Rme5LFfDBjBl"
      },
      "source": [
        "---"
      ]
    },
    {
      "cell_type": "markdown",
      "metadata": {
        "id": "R-YHECv8272g"
      },
      "source": [
        "#### Activity 4: Indexing A Pandas Series^\n",
        "\n",
        "Indexing a Pandas series is the same as indexing a Python list or a NumPy array. \n",
        "\n",
        "Let's say we want to get the weights of the students whose indices range from `13` to `21`, then you can write the variable storing the Pandas series followed by the square brackets `[]`. Inside the square brackets, you can mention the range of items you wish to retrieve from a series.\n",
        "\n",
        "**Syntax:** `pandas_series[start_index:end_index]`"
      ]
    },
    {
      "cell_type": "code",
      "metadata": {
        "id": "phhN5YRc3k3b",
        "colab": {
          "base_uri": "https://localhost:8080/"
        },
        "outputId": "c7b7feb9-79b6-49f0-f6c6-72392acc4065"
      },
      "source": [
        "# Student Action: Retrieve items from a Pandas series using the indexing method.\n",
        "weights[13:22]"
      ],
      "execution_count": null,
      "outputs": [
        {
          "output_type": "execute_result",
          "data": {
            "text/plain": [
              "13    53\n",
              "14    45\n",
              "15    59\n",
              "16    48\n",
              "17    57\n",
              "18    56\n",
              "19    50\n",
              "20    52\n",
              "21    46\n",
              "dtype: int64"
            ]
          },
          "metadata": {
            "tags": []
          },
          "execution_count": 18
        }
      ]
    },
    {
      "cell_type": "code",
      "metadata": {
        "id": "OkuDG88ICFF8",
        "colab": {
          "base_uri": "https://localhost:8080/"
        },
        "outputId": "21b25fa1-70ff-4851-9520-fbb07f6dc46d"
      },
      "source": [
        "# Student Action: Print the items ranging from the indices 17 to 27.\n",
        "print(weights[17:28])"
      ],
      "execution_count": null,
      "outputs": [
        {
          "output_type": "stream",
          "text": [
            "17    57\n",
            "18    56\n",
            "19    50\n",
            "20    52\n",
            "21    46\n",
            "22    49\n",
            "23    55\n",
            "24    58\n",
            "25    52\n",
            "26    54\n",
            "27    46\n",
            "dtype: int64\n"
          ],
          "name": "stdout"
        }
      ]
    },
    {
      "cell_type": "markdown",
      "metadata": {
        "id": "QdblhzmsBlTs"
      },
      "source": [
        "---"
      ]
    },
    {
      "cell_type": "markdown",
      "metadata": {
        "id": "kWIw-52mGY_O"
      },
      "source": [
        "#### Activity 5: The `mode()` Function\n",
        "\n",
        "Let's say you want to find out the weights of the most number of students in your class, then you can use the `mode()` function."
      ]
    },
    {
      "cell_type": "code",
      "metadata": {
        "id": "usuCFOT5DnI0",
        "colab": {
          "base_uri": "https://localhost:8080/"
        },
        "outputId": "b2f7a074-fe25-45e5-cb24-41456cc98e3f"
      },
      "source": [
        "# Student Action: Compute the modal value in the 'weight' series.\n",
        "weight_mode = weights.mode()\n",
        "print(weight_mode[0])"
      ],
      "execution_count": null,
      "outputs": [
        {
          "output_type": "stream",
          "text": [
            "55\n"
          ],
          "name": "stdout"
        }
      ]
    },
    {
      "cell_type": "markdown",
      "metadata": {
        "id": "a4lTVCuwIkC2"
      },
      "source": [
        "**Note**: A dataset can have more than one modal value. \n"
      ]
    },
    {
      "cell_type": "markdown",
      "metadata": {
        "id": "8wRQOfR7Bmqr"
      },
      "source": [
        "---"
      ]
    },
    {
      "cell_type": "markdown",
      "metadata": {
        "id": "FHZ9M6342j2M"
      },
      "source": [
        "#### Activity 6: The `sort_values()` Function^^\n",
        "\n",
        "We can use the `sort_values()` function to arrange the numbers in a Pandas series either in an ascending order or in descending order.\n",
        "\n",
        "To arrange the numbers in a Pandas series in the increasing order, use the `sort_values()` function with the `ascending=True` as an input."
      ]
    },
    {
      "cell_type": "code",
      "metadata": {
        "id": "Ahm8KCSm243J",
        "colab": {
          "base_uri": "https://localhost:8080/",
          "height": 969
        },
        "outputId": "137013aa-16c1-4471-fa25-82de6fb1e5ab"
      },
      "source": [
        "# Student Action: Arrange the weights in the increasing order using the 'sort_values()' function.\n",
        "weights.sort_values().reset_index()"
      ],
      "execution_count": null,
      "outputs": [
        {
          "output_type": "execute_result",
          "data": {
            "text/html": [
              "<div>\n",
              "<style scoped>\n",
              "    .dataframe tbody tr th:only-of-type {\n",
              "        vertical-align: middle;\n",
              "    }\n",
              "\n",
              "    .dataframe tbody tr th {\n",
              "        vertical-align: top;\n",
              "    }\n",
              "\n",
              "    .dataframe thead th {\n",
              "        text-align: right;\n",
              "    }\n",
              "</style>\n",
              "<table border=\"1\" class=\"dataframe\">\n",
              "  <thead>\n",
              "    <tr style=\"text-align: right;\">\n",
              "      <th></th>\n",
              "      <th>index</th>\n",
              "      <th>0</th>\n",
              "    </tr>\n",
              "  </thead>\n",
              "  <tbody>\n",
              "    <tr>\n",
              "      <th>0</th>\n",
              "      <td>14</td>\n",
              "      <td>45</td>\n",
              "    </tr>\n",
              "    <tr>\n",
              "      <th>1</th>\n",
              "      <td>9</td>\n",
              "      <td>45</td>\n",
              "    </tr>\n",
              "    <tr>\n",
              "      <th>2</th>\n",
              "      <td>27</td>\n",
              "      <td>46</td>\n",
              "    </tr>\n",
              "    <tr>\n",
              "      <th>3</th>\n",
              "      <td>21</td>\n",
              "      <td>46</td>\n",
              "    </tr>\n",
              "    <tr>\n",
              "      <th>4</th>\n",
              "      <td>6</td>\n",
              "      <td>47</td>\n",
              "    </tr>\n",
              "    <tr>\n",
              "      <th>5</th>\n",
              "      <td>29</td>\n",
              "      <td>47</td>\n",
              "    </tr>\n",
              "    <tr>\n",
              "      <th>6</th>\n",
              "      <td>16</td>\n",
              "      <td>48</td>\n",
              "    </tr>\n",
              "    <tr>\n",
              "      <th>7</th>\n",
              "      <td>3</td>\n",
              "      <td>49</td>\n",
              "    </tr>\n",
              "    <tr>\n",
              "      <th>8</th>\n",
              "      <td>22</td>\n",
              "      <td>49</td>\n",
              "    </tr>\n",
              "    <tr>\n",
              "      <th>9</th>\n",
              "      <td>0</td>\n",
              "      <td>50</td>\n",
              "    </tr>\n",
              "    <tr>\n",
              "      <th>10</th>\n",
              "      <td>12</td>\n",
              "      <td>50</td>\n",
              "    </tr>\n",
              "    <tr>\n",
              "      <th>11</th>\n",
              "      <td>19</td>\n",
              "      <td>50</td>\n",
              "    </tr>\n",
              "    <tr>\n",
              "      <th>12</th>\n",
              "      <td>25</td>\n",
              "      <td>52</td>\n",
              "    </tr>\n",
              "    <tr>\n",
              "      <th>13</th>\n",
              "      <td>20</td>\n",
              "      <td>52</td>\n",
              "    </tr>\n",
              "    <tr>\n",
              "      <th>14</th>\n",
              "      <td>11</td>\n",
              "      <td>53</td>\n",
              "    </tr>\n",
              "    <tr>\n",
              "      <th>15</th>\n",
              "      <td>13</td>\n",
              "      <td>53</td>\n",
              "    </tr>\n",
              "    <tr>\n",
              "      <th>16</th>\n",
              "      <td>26</td>\n",
              "      <td>54</td>\n",
              "    </tr>\n",
              "    <tr>\n",
              "      <th>17</th>\n",
              "      <td>8</td>\n",
              "      <td>55</td>\n",
              "    </tr>\n",
              "    <tr>\n",
              "      <th>18</th>\n",
              "      <td>10</td>\n",
              "      <td>55</td>\n",
              "    </tr>\n",
              "    <tr>\n",
              "      <th>19</th>\n",
              "      <td>23</td>\n",
              "      <td>55</td>\n",
              "    </tr>\n",
              "    <tr>\n",
              "      <th>20</th>\n",
              "      <td>2</td>\n",
              "      <td>55</td>\n",
              "    </tr>\n",
              "    <tr>\n",
              "      <th>21</th>\n",
              "      <td>1</td>\n",
              "      <td>56</td>\n",
              "    </tr>\n",
              "    <tr>\n",
              "      <th>22</th>\n",
              "      <td>4</td>\n",
              "      <td>56</td>\n",
              "    </tr>\n",
              "    <tr>\n",
              "      <th>23</th>\n",
              "      <td>18</td>\n",
              "      <td>56</td>\n",
              "    </tr>\n",
              "    <tr>\n",
              "      <th>24</th>\n",
              "      <td>17</td>\n",
              "      <td>57</td>\n",
              "    </tr>\n",
              "    <tr>\n",
              "      <th>25</th>\n",
              "      <td>24</td>\n",
              "      <td>58</td>\n",
              "    </tr>\n",
              "    <tr>\n",
              "      <th>26</th>\n",
              "      <td>7</td>\n",
              "      <td>58</td>\n",
              "    </tr>\n",
              "    <tr>\n",
              "      <th>27</th>\n",
              "      <td>5</td>\n",
              "      <td>59</td>\n",
              "    </tr>\n",
              "    <tr>\n",
              "      <th>28</th>\n",
              "      <td>15</td>\n",
              "      <td>59</td>\n",
              "    </tr>\n",
              "    <tr>\n",
              "      <th>29</th>\n",
              "      <td>28</td>\n",
              "      <td>59</td>\n",
              "    </tr>\n",
              "  </tbody>\n",
              "</table>\n",
              "</div>"
            ],
            "text/plain": [
              "    index   0\n",
              "0      14  45\n",
              "1       9  45\n",
              "2      27  46\n",
              "3      21  46\n",
              "4       6  47\n",
              "5      29  47\n",
              "6      16  48\n",
              "7       3  49\n",
              "8      22  49\n",
              "9       0  50\n",
              "10     12  50\n",
              "11     19  50\n",
              "12     25  52\n",
              "13     20  52\n",
              "14     11  53\n",
              "15     13  53\n",
              "16     26  54\n",
              "17      8  55\n",
              "18     10  55\n",
              "19     23  55\n",
              "20      2  55\n",
              "21      1  56\n",
              "22      4  56\n",
              "23     18  56\n",
              "24     17  57\n",
              "25     24  58\n",
              "26      7  58\n",
              "27      5  59\n",
              "28     15  59\n",
              "29     28  59"
            ]
          },
          "metadata": {
            "tags": []
          },
          "execution_count": 31
        }
      ]
    },
    {
      "cell_type": "markdown",
      "metadata": {
        "id": "HvuYmLY01NRE"
      },
      "source": [
        "To arrange the numbers in a Pandas series in the decreasing order, use the `sort_values()` function with the `ascending=False` as an input."
      ]
    },
    {
      "cell_type": "code",
      "metadata": {
        "id": "58zrrGp03MPr",
        "colab": {
          "base_uri": "https://localhost:8080/"
        },
        "outputId": "188cf071-aebb-408a-c818-a55a076f4c46"
      },
      "source": [
        "# Student Action: Using the 'sort_values()' function, arrange the weights in the decreasing order.\n",
        "weights.sort_values(ascending=False).reset_index(drop=True)"
      ],
      "execution_count": null,
      "outputs": [
        {
          "output_type": "execute_result",
          "data": {
            "text/plain": [
              "0     59\n",
              "1     59\n",
              "2     59\n",
              "3     58\n",
              "4     58\n",
              "5     57\n",
              "6     56\n",
              "7     56\n",
              "8     56\n",
              "9     55\n",
              "10    55\n",
              "11    55\n",
              "12    55\n",
              "13    54\n",
              "14    53\n",
              "15    53\n",
              "16    52\n",
              "17    52\n",
              "18    50\n",
              "19    50\n",
              "20    50\n",
              "21    49\n",
              "22    49\n",
              "23    48\n",
              "24    47\n",
              "25    47\n",
              "26    46\n",
              "27    46\n",
              "28    45\n",
              "29    45\n",
              "dtype: int64"
            ]
          },
          "metadata": {
            "tags": []
          },
          "execution_count": 33
        }
      ]
    },
    {
      "cell_type": "markdown",
      "metadata": {
        "id": "f_gvj2iuBojX"
      },
      "source": [
        "---"
      ]
    },
    {
      "cell_type": "markdown",
      "metadata": {
        "id": "JzMxsDyM1xjF"
      },
      "source": [
        "#### Activity 7: The `median()` Function\n",
        "\n",
        "To find the median value in a Pandas series, we can simply use the `median()` function.\n"
      ]
    },
    {
      "cell_type": "code",
      "metadata": {
        "id": "7ow8yIRJIVkH",
        "colab": {
          "base_uri": "https://localhost:8080/"
        },
        "outputId": "5d8b8101-f837-42a8-e4ed-ecc4f11a409b"
      },
      "source": [
        "# Student Action: Using the 'median()' function, find the median weight in the weights series.\n",
        "weights.median()"
      ],
      "execution_count": null,
      "outputs": [
        {
          "output_type": "execute_result",
          "data": {
            "text/plain": [
              "53.0"
            ]
          },
          "metadata": {
            "tags": []
          },
          "execution_count": 34
        }
      ]
    },
    {
      "cell_type": "markdown",
      "metadata": {
        "id": "miV_5-BUBqgo"
      },
      "source": [
        "---"
      ]
    },
    {
      "cell_type": "markdown",
      "metadata": {
        "id": "OzwfreqNImoh"
      },
      "source": [
        "#### Activity 8: The `value_counts()` Function^^^\n",
        "\n",
        "To count the number of occurrences of an item in a Pandas series, you can use the `value_counts()` function."
      ]
    },
    {
      "cell_type": "code",
      "metadata": {
        "id": "oXpzD6kCIrFc",
        "colab": {
          "base_uri": "https://localhost:8080/"
        },
        "outputId": "c4a03eec-ee73-4ff5-c3c9-556db04cbcc5"
      },
      "source": [
        "# Student Action: Count the number of times each item in the 'weights' Pandas series occurs.\n",
        "weights.value_counts().index\n",
        "weights.unique()"
      ],
      "execution_count": null,
      "outputs": [
        {
          "output_type": "execute_result",
          "data": {
            "text/plain": [
              "array([50, 56, 55, 49, 59, 47, 58, 45, 53, 48, 57, 52, 46, 54])"
            ]
          },
          "metadata": {
            "tags": []
          },
          "execution_count": 38
        }
      ]
    },
    {
      "cell_type": "markdown",
      "metadata": {
        "id": "sm6gnHKkJFTw"
      },
      "source": [
        "**Note:** The `value_counts()` function is not available for Python lists and NumPy arrays.\n",
        "\n",
        "There is more to the Pandas series. We will learn it in detail along with Pandas DataFrames from the next class onwards. This is just an introductory class to Pandas."
      ]
    },
    {
      "cell_type": "markdown",
      "metadata": {
        "id": "fxkchvyXiCdB"
      },
      "source": [
        "---"
      ]
    },
    {
      "cell_type": "markdown",
      "metadata": {
        "id": "5EwMI1JpiEDr"
      },
      "source": [
        "#### Python List vs NumPy Array vs Pandas Series\n",
        "\n",
        "You might now wonder when to use a Python list, a NumPy array and a Pandas series?\n",
        "\n",
        "There are no hard rules to decide when to use which one of these data-structures but as a guide you may consider the following:\n",
        "\n",
        "1. When you just want to store data, retrieve data and add more data, use a Python list.\n",
        "\n",
        "2. When you want to store a numerical data (one-dimensional or multidimensional) and want to perform a lot of mathematical operations, then use a NumPy array as it faster than a Python list and it is easy to create a multidimensional array using a NumPy array.\n",
        "\n",
        "3. When you want to import data from an external file such as `TXT, XLXS, CSV, XML` etc then use a Pandas series. In the next class, you will learn how to import data from an external file. Additionally, Pandas allow you to interpret data in different ways. It also allows you to do complicated data extraction, manipulation and data processing operations on a dataset. Throughout this course, we will use Pandas library to handle data."
      ]
    },
    {
      "cell_type": "markdown",
      "metadata": {
        "id": "g1bVOdOWJSav"
      },
      "source": [
        "---"
      ]
    }
  ]
}