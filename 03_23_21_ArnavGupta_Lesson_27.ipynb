{
  "nbformat": 4,
  "nbformat_minor": 0,
  "metadata": {
    "colab": {
      "name": "03-23-21-ArnavGupta-Lesson_27",
      "provenance": [],
      "collapsed_sections": [],
      "include_colab_link": true
    },
    "kernelspec": {
      "name": "python3",
      "display_name": "Python 3"
    }
  },
  "cells": [
    {
      "cell_type": "markdown",
      "metadata": {
        "id": "view-in-github",
        "colab_type": "text"
      },
      "source": [
        "<a href=\"https://colab.research.google.com/github/PieBot314/Python_Collab/blob/main/03_23_21_ArnavGupta_Lesson_27.ipynb\" target=\"_parent\"><img src=\"https://colab.research.google.com/assets/colab-badge.svg\" alt=\"Open In Colab\"/></a>"
      ]
    },
    {
      "cell_type": "markdown",
      "metadata": {
        "id": "aMbswDYFUt_1"
      },
      "source": [
        "# Lesson 27: Meteorite Landings - Histogram"
      ]
    },
    {
      "cell_type": "markdown",
      "metadata": {
        "id": "dmruqgPqb9BH"
      },
      "source": [
        "### Teacher-Student Activities\n",
        "\n",
        "In the previous classes, we learnt how to create a count plot. In this class, we will learn another type of graph called a histogram.\n",
        "\n",
        "A histogram is very similar to a count plot. It also shows the count of values. However, unlike the discrete counts in a count plot, a histogram shows the continuous counts of values. You will get a better understanding once we start creating a histogram.\n",
        "\n",
        "Let's quickly rush through the activities we covered in the previous class and begin this class from **Activity 1: Count Plot** section.\n",
        "\n"
      ]
    },
    {
      "cell_type": "markdown",
      "metadata": {
        "id": "0btx_ehOLDK5"
      },
      "source": [
        "---"
      ]
    },
    {
      "cell_type": "markdown",
      "metadata": {
        "id": "DoShzic97iBl"
      },
      "source": [
        "#### Recap\n",
        "\n",
        "Dataset Link (don't click on it):\n",
        "\n",
        "https://s3-student-datasets-bucket.whjr.online/whitehat-ds-datasets/meteorite-landings/meteorite-landings.csv\n"
      ]
    },
    {
      "cell_type": "code",
      "metadata": {
        "id": "ThLLbqIzUd9f",
        "colab": {
          "base_uri": "https://localhost:8080/"
        },
        "outputId": "5134dbdc-a6b8-4768-ac0f-e56e2d04d5db"
      },
      "source": [
        "# Below are the activities that have been covered in the previous class.\n",
        "# 1. Import the necessary libraries for this class and create a DataFrame.\n",
        "import numpy as np\n",
        "import pandas as pd\n",
        "import matplotlib.pyplot as plt\n",
        "\n",
        "met_df = pd.read_csv('https://s3-student-datasets-bucket.whjr.online/whitehat-ds-datasets/meteorite-landings/meteorite-landings.csv')\n",
        "\n",
        "# 2. Find the number of rows and columns in the DataFrame. \n",
        "print(met_df.shape)\n",
        "\n",
        "# 3. Rows containing the year values less than 860 and greater than 2016.\n",
        "correct_years_df = met_df[(met_df['year'] >= 860) & (met_df['year'] <= 2016)]\n",
        "\n",
        "# 4. Rows having the 'reclong' values greater than or equal to -180 degrees and less than or equal to 180 degrees.\n",
        "correct_long_df = correct_years_df[(correct_years_df['reclong'] >= -180) & (correct_years_df['reclong'] <= 180)]\n",
        "\n",
        "# 5. Rows containing the '0 reclat' and '0 reclong' values from the 'correct_long_df'.\n",
        "correct_lat_long_df = correct_long_df[~((correct_long_df['reclat'] == 0 ) & (correct_long_df['reclong'] == 0))]\n",
        "\n",
        "# 6. Indices of the rows having missing mass values.\n",
        "row_indices = correct_lat_long_df[correct_lat_long_df['mass'].isnull() == True].index\n",
        "\n",
        "# 7. Missing values in the 'mass' column in the 'correct_lat_long_df' DataFrame with median of mass.\n",
        "median_mass = correct_lat_long_df['mass'].median()\n",
        "correct_lat_long_df.loc[row_indices, 'mass'] = median_mass\n",
        "\n",
        "# 8. Convert the 'year' values into an integer type values.\n",
        "correct_lat_long_df.loc[:, 'year'] = correct_lat_long_df.loc[:, 'year'].astype('int')"
      ],
      "execution_count": 1,
      "outputs": [
        {
          "output_type": "stream",
          "text": [
            "(45716, 10)\n"
          ],
          "name": "stdout"
        },
        {
          "output_type": "stream",
          "text": [
            "/usr/local/lib/python3.7/dist-packages/pandas/core/indexing.py:1763: SettingWithCopyWarning: \n",
            "A value is trying to be set on a copy of a slice from a DataFrame.\n",
            "Try using .loc[row_indexer,col_indexer] = value instead\n",
            "\n",
            "See the caveats in the documentation: https://pandas.pydata.org/pandas-docs/stable/user_guide/indexing.html#returning-a-view-versus-a-copy\n",
            "  isetter(loc, value)\n",
            "/usr/local/lib/python3.7/dist-packages/pandas/core/indexing.py:1743: SettingWithCopyWarning: \n",
            "A value is trying to be set on a copy of a slice from a DataFrame.\n",
            "Try using .loc[row_indexer,col_indexer] = value instead\n",
            "\n",
            "See the caveats in the documentation: https://pandas.pydata.org/pandas-docs/stable/user_guide/indexing.html#returning-a-view-versus-a-copy\n",
            "  isetter(ilocs[0], value)\n"
          ],
          "name": "stderr"
        }
      ]
    },
    {
      "cell_type": "markdown",
      "metadata": {
        "id": "mAHPBr8hmtGf"
      },
      "source": [
        "---"
      ]
    },
    {
      "cell_type": "markdown",
      "metadata": {
        "id": "P-XzsmGGL25Z"
      },
      "source": [
        "#### Activity 1: Count Plot\n",
        "\n",
        "Recall that in the previous class we couldn't draw count plots for all the meteorites found in a year. We had to divide the years in the 20 to 30 years period and then draw the count plot. The count plot really works well when you want to look at the variation in the count of a feature across a category. E.g., we observed that the count of `Valid` meteorites was more than the count of the `Relict` meteorites for a year. So, this is where the count plots are really helpful.\n",
        "\n",
        "However, if you want to observe the count trend in one single graph, then, in that case, it is better to create a histogram. \n",
        "\n",
        "*A histogram is a type of bar graph which plots the data falling in the same interval together.* Let's understand a histogram through an example.\n",
        "\n",
        "Consider the count of the meteorites between the years `1970` & `2000`. Let's create a count plot for this period."
      ]
    },
    {
      "cell_type": "code",
      "metadata": {
        "id": "n5mVgyomUZQY",
        "colab": {
          "base_uri": "https://localhost:8080/",
          "height": 279
        },
        "outputId": "1b40ec69-3779-4478-cc91-aaaa211b4584"
      },
      "source": [
        "# Student Action: Create a count plot for the count of the meteorites between the years 1970 & 2000.\n",
        "import seaborn as sns\n",
        "# Create a DataFrame for the meteorites fallen between 1970 and 2000 including both.\n",
        "year_1970_2000_df = correct_lat_long_df[(correct_lat_long_df['year']>=1970) & (correct_lat_long_df['year']<=2000)]\n",
        "# Create a count plot for the meteorites fallen between 1970 and 2000 including both.\n",
        "plt.figure(figsize=(16,4))\n",
        "sns.countplot(x='year', data = year_1970_2000_df)\n",
        "plt.show()"
      ],
      "execution_count": 2,
      "outputs": [
        {
          "output_type": "display_data",
          "data": {
            "image/png": "[encoded data removed]",
            "text/plain": [
              "<Figure size 1152x288 with 1 Axes>"
            ]
          },
          "metadata": {
            "tags": [],
            "needs_background": "light"
          }
        }
      ]
    },
    {
      "cell_type": "markdown",
      "metadata": {
        "id": "0swSLoOCUqcX"
      },
      "source": [
        "Now, suppose we want to plot a bar graph for the count of the number of meteorites fallen in the interval of 5 years between 1970 and 2000. In this case, we will have 6 intervals. They are:\n",
        "\n",
        "1. 1970 to 1975 (excluding 1975)\n",
        "\n",
        "2. 1975 to 1980 (excluding 1980)\n",
        "\n",
        "3. 1980 to 1985 (excluding 1985)\n",
        "\n",
        "4. 1985 to 1990 (excluding 1990)\n",
        "\n",
        "5. 1990 to 1995 (excluding 1995)\n",
        "\n",
        "6. 1995 to 2000 (**including** 2000)\n",
        "\n"
      ]
    },
    {
      "cell_type": "markdown",
      "metadata": {
        "id": "tXO47iQ3Fo-8"
      },
      "source": [
        "---"
      ]
    },
    {
      "cell_type": "markdown",
      "metadata": {
        "id": "x1sGC6kWFpqI"
      },
      "source": [
        "#### Activity 2: Histogram Using The `hist()` Function\n",
        "\n",
        "To create such bar graphs, we use a histogram. The bars in the count plot merge together to form one bar in the histogram. So, for the interval:\n",
        "\n",
        "1. 1970 to 1975 (excluding 1975), the bars in a count plot for the years 1970, 1971, 1972, 1973 and 1974 will merge together to form one bar in a histogram.\n",
        "\n",
        "2. 1975 to 1980 (excluding 1980), the bars in a count plot for the years 1975, 1976, 1977, 1978 and 1979 will merge together to form one bar in a histogram.\n",
        "\n",
        "3. 1980 to 1985 (excluding 1985), the bars in a count plot for the years 1980, 1981, 1982, 1983 and 1984 will merge together to form one bar in a histogram.\n",
        "\n",
        "4. 1985 to 1980 (excluding 1990), the bars in a count plot for the years 1985, 1986, 1987, 1988 and 1989 will merge together to form one bar in a histogram.\n",
        "\n",
        "5. 1990 to 1995 (excluding 1995), the bars in a count plot for the years 1990, 1991, 1992, 1993 and 1994 will merge together to form one bar in a histogram.\n",
        "\n",
        "6. 1995 to 2000 (**including** 2000), the bars in a count plot for the years 1995, 1996, 1997, 1998 and 2000 will merge together to form one bar in a histogram.\n",
        "\n",
        "To create a histogram, you can use the `hist()` function which exists in the `matplotlib.pyplot` library. The `hist()` function requires a one dimensional array/list/series as an input to create a histogram. Let's create a histogram for the Pandas series which contains the year values between 1970 and 2000 including both of them, i.e., \n",
        "\n",
        "`correct_lat_long_df.loc[(correct_lat_long_df['year'] >= 1970) & (correct_lat_long_df['year'] < 2001)]`\n"
      ]
    },
    {
      "cell_type": "code",
      "metadata": {
        "id": "9e2cUJqriWk6"
      },
      "source": [
        "# Teacher Action: Create a Pandas series containing the year values between 1970 and 2000 including both of them.\n",
        "year_1970_2000_series = correct_lat_long_df.loc[(correct_lat_long_df['year']>=1970) & (correct_lat_long_df['year']<=2000), \"year\"]"
      ],
      "execution_count": 3,
      "outputs": []
    },
    {
      "cell_type": "markdown",
      "metadata": {
        "id": "BDoQkLKdQqjf"
      },
      "source": [
        "So, we have sliced the `correct_lat_long_df` DataFrame to obtain a Pandas series countaining the year values between the years 1970 and 2000. **Since for every meteorite, we have recorded its fall year. Hence, the number of year values is equal to the number of meteorites fallen on Earth.**\n",
        "\n",
        "Now let's create a histogram for the meteorites fallen between 1970 and 2000 using the `hist()` function. We will provide two inputs to the function. They are:\n",
        "\n",
        "1. The Pandas series `met_bet_1970_and_2000_series` for which the histogram needs to be created.\n",
        "\n",
        "2. The `bins` value to define the number of bars to be created in the histogram. Here, we are going to create 6 bars, hence we will pass `bins=6` as the second input to the `hist()` function.\n",
        "\n"
      ]
    },
    {
      "cell_type": "code",
      "metadata": {
        "id": "cRWZrocPR4Lg",
        "colab": {
          "base_uri": "https://localhost:8080/",
          "height": 320
        },
        "outputId": "742f04ec-82e0-4c87-8c7e-800f8fdf6824"
      },
      "source": [
        "# Teacher Action: Create a histogram for the Pandas series containing the year values between 1970 and 2000 including both of them.\n",
        "plt.figure(figsize=(16,5))\n",
        "plt.hist(x=year_1970_2000_series, bins=6)\n",
        "plt.show()"
      ],
      "execution_count": 4,
      "outputs": [
        {
          "output_type": "display_data",
          "data": {
            "image/png": "[encoded data removed]",
            "text/plain": [
              "<Figure size 1152x360 with 1 Axes>"
            ]
          },
          "metadata": {
            "tags": [],
            "needs_background": "light"
          }
        }
      ]
    },
    {
      "cell_type": "markdown",
      "metadata": {
        "id": "TyPWmfrYqJ3O"
      },
      "source": [
        "In the histogram above, on the horizontal axis, we have the year values and on the vertical axis, we have the count of the meteorites fallen to Earth including both `Fell` & `Found` meteorites. So from the histogram, we can say that \n",
        "\n",
        "1. just below 1000 meteorites fell on Earth from 1970 to 1975 (excluding 1975)\n",
        "\n",
        "2. just over 4000 meteorites fell on Earth from 1975 to 1980 (excluding 1980)\n",
        "\n",
        "3. just below 2000 meteorites fell on Earth from 1980 to 1985 (excluding 1985)\n",
        "\n",
        "4. just over 5000 meteorites fell on Earth from 1985 to 1990 (excluding 1990)\n",
        "\n",
        "5. just below 4500 meteorites fell on Earth from 1990 to 1995 (excluding 1995)\n",
        "\n",
        "6. just over 6000 meteorites fell on Earth from 1995 to 2000 (**including** 2000)\n"
      ]
    },
    {
      "cell_type": "markdown",
      "metadata": {
        "id": "nbghBY4-GAJN"
      },
      "source": [
        "---"
      ]
    },
    {
      "cell_type": "markdown",
      "metadata": {
        "id": "ANCPiCzvGAwB"
      },
      "source": [
        "#### Activity 3: The `sum()` Function^^\n",
        "\n",
        "We can find the actual number of meteorites fell on Earth in each of the six intervals using the `sum()` function which exists in the Pandas module.\n",
        "\n",
        "**Note:** Number of meteorites fell on Earth is equal to the number of year values.\n",
        "\n",
        "To do this exercise, first, obtain a Pandas series containing the year values for each interval of 5 years using the `loc[]` function. E.g.,\n",
        "\n",
        "```\n",
        "correct_lat_long_df.loc[(correct_lat_long_df['year'] >= 1970) & (correct_lat_long_df['year'] < 1975), 'year']\n",
        "```\n",
        "\n",
        "Then apply the `value_counts()` function followed by the `sum()` function. The `value_counts()` function will return another Pandas series containing the count of year values in the 5 year interval. The `sum()` function will return the sum of the all counts. E.g.,\n",
        "\n",
        "```\n",
        "correct_lat_long_df.loc[(correct_lat_long_df['year'] >= 1970) & (correct_lat_long_df['year'] < 1975), 'year'].value_counts().sum()\n",
        "```"
      ]
    },
    {
      "cell_type": "code",
      "metadata": {
        "id": "37_USqMKi1dn",
        "colab": {
          "base_uri": "https://localhost:8080/"
        },
        "outputId": "be30c622-78b7-4964-cbee-12e7db1158eb"
      },
      "source": [
        "# Student Action: Find the actual number of meteorites fell on Earth in each of the six intervals.\n",
        "print(correct_lat_long_df.loc[(correct_lat_long_df['year']>=1970)&(correct_lat_long_df['year'] < 1975), 'year'].value_counts().sum())\n",
        "print(correct_lat_long_df.loc[(correct_lat_long_df['year']>=1975)&(correct_lat_long_df['year'] < 1980), 'year'].value_counts().sum())\n",
        "print(correct_lat_long_df.loc[(correct_lat_long_df['year']>=1980)&(correct_lat_long_df['year'] < 1985), 'year'].value_counts().sum())\n",
        "print(correct_lat_long_df.loc[(correct_lat_long_df['year']>=1985)&(correct_lat_long_df['year'] < 1990), 'year'].value_counts().sum())\n",
        "print(correct_lat_long_df.loc[(correct_lat_long_df['year']>=1990)&(correct_lat_long_df['year'] < 1995), 'year'].value_counts().sum())\n",
        "print(correct_lat_long_df.loc[(correct_lat_long_df['year']>=1995)&(correct_lat_long_df['year'] <= 2000), 'year'].value_counts().sum())"
      ],
      "execution_count": 5,
      "outputs": [
        {
          "output_type": "stream",
          "text": [
            "846\n",
            "4116\n",
            "1708\n",
            "5098\n",
            "4448\n",
            "6152\n"
          ],
          "name": "stdout"
        }
      ]
    },
    {
      "cell_type": "markdown",
      "metadata": {
        "id": "A4n2s76eqi-d"
      },
      "source": [
        "Therefore, \n",
        "\n",
        "- 846 meteorites fell on Earth from 1970 to 1975 (excluding 1975)\n",
        "\n",
        "- 4116 meteorites fell on Earth from 1975 to 1980 (excluding 1980)\n",
        "\n",
        "- 1708 meteorites fell on Earth from 1980 to 1985 (excluding 1985)\n",
        "\n",
        "- 5098 meteorites fell on Earth from 1985 to 1990 (excluding 1990)\n",
        "\n",
        "- 4448 meteorites fell on Earth from 1990 to 1995 (excluding 1995)\n",
        "\n",
        "- 6152 meteorites fell on Earth from 1995 to 2000 (**including** 2000)\n",
        "\n",
        "\n",
        "There's an alternate way to do the above exercise. Create a `while` loop to iterete through each interval of 5 years to count the number of years in each interval.\n"
      ]
    },
    {
      "cell_type": "code",
      "metadata": {
        "id": "OYvwnzyTZxjG",
        "colab": {
          "base_uri": "https://localhost:8080/"
        },
        "outputId": "7422eb06-c915-4327-babe-273707c9af81"
      },
      "source": [
        "# Teacher Action: Create a 'while' loop to iterete through first 5 intervals to obtain the count of the meteorites fallen.\n",
        "for i in range(0,6):\n",
        "  print(correct_lat_long_df.loc[(correct_lat_long_df['year']>=1970+i*5)&(correct_lat_long_df['year'] < 1975+i*5), 'year'].value_counts().sum())\n",
        "  if i == 5:\n",
        "    print(correct_lat_long_df.loc[(correct_lat_long_df['year']>=1995)&(correct_lat_long_df['year'] <= 2000), 'year'].value_counts().sum())"
      ],
      "execution_count": 6,
      "outputs": [
        {
          "output_type": "stream",
          "text": [
            "846\n",
            "4116\n",
            "1708\n",
            "5098\n",
            "4448\n",
            "4646\n",
            "6152\n"
          ],
          "name": "stdout"
        }
      ]
    },
    {
      "cell_type": "markdown",
      "metadata": {
        "id": "S_Zjx-qtF1fy"
      },
      "source": [
        "---"
      ]
    },
    {
      "cell_type": "markdown",
      "metadata": {
        "id": "mqfVR2K9F2SG"
      },
      "source": [
        "#### Activity 4: Histogram Using The `distplot()` Function^\n",
        "\n",
        "We can also create a histogram using the `distplot()` function from the `seaborn` module. The term `distplot` stands for distribution plot. It also takes a Pandas series / NumPy array / Python list as an input. The other inputs that you can provide are `bins` and `kde` values. The `kde` parameter takes a boolean value, i.e., either `True` or `False`. Let's set the `bins` parameter equal to `6` and the `kde` parameter equal to `False` in the `distplot()` function. We will learn about the `kde` parameter later."
      ]
    },
    {
      "cell_type": "code",
      "metadata": {
        "id": "Fzjd6fRYmkS-",
        "colab": {
          "base_uri": "https://localhost:8080/",
          "height": 334
        },
        "outputId": "f817dda7-1a8b-4c90-d8e9-269e4c629524"
      },
      "source": [
        "# Teacher Action: Create a histogram using the 'displot()' function from the seaborn library.\n",
        "plt.figure(figsize=(16,4))\n",
        "sns.distplot(year_1970_2000_series, bins=6, kde=False)\n",
        "plt.show()"
      ],
      "execution_count": 7,
      "outputs": [
        {
          "output_type": "stream",
          "text": [
            "/usr/local/lib/python3.7/dist-packages/seaborn/distributions.py:2557: FutureWarning: `distplot` is a deprecated function and will be removed in a future version. Please adapt your code to use either `displot` (a figure-level function with similar flexibility) or `histplot` (an axes-level function for histograms).\n",
            "  warnings.warn(msg, FutureWarning)\n"
          ],
          "name": "stderr"
        },
        {
          "output_type": "display_data",
          "data": {
            "image/png": "[encoded data removed]",
            "text/plain": [
              "<Figure size 1152x288 with 1 Axes>"
            ]
          },
          "metadata": {
            "tags": [],
            "needs_background": "light"
          }
        }
      ]
    },
    {
      "cell_type": "markdown",
      "metadata": {
        "id": "Dmf4kU7S-ABq"
      },
      "source": [
        "As you can see, we have created the same histogram using the `distplot()` function. **The `distplot()` function is smarter in terms of choosing the appropriate default number of bins**. Hence, it is best to create a histogram using the `distplot()` function over the `hist()` function. \n",
        "\n",
        "Now, let's create a histogram to see the distribution of the fall of meteorites over the years starting from the year `860`."
      ]
    },
    {
      "cell_type": "code",
      "metadata": {
        "id": "GCc4tY0NioCQ",
        "colab": {
          "base_uri": "https://localhost:8080/",
          "height": 334
        },
        "outputId": "2537dbda-7d01-497b-a071-3afbf7a3eaed"
      },
      "source": [
        "# Student Action: Create a histogram for the 'year' column in the 'correct_lat_long_df' DataFrame using the 'distplot()' function.\n",
        "plt.figure(figsize=(16,4))\n",
        "sns.distplot(correct_lat_long_df['year'], kde=False)\n",
        "plt.show()"
      ],
      "execution_count": 17,
      "outputs": [
        {
          "output_type": "stream",
          "text": [
            "/usr/local/lib/python3.7/dist-packages/seaborn/distributions.py:2557: FutureWarning: `distplot` is a deprecated function and will be removed in a future version. Please adapt your code to use either `displot` (a figure-level function with similar flexibility) or `histplot` (an axes-level function for histograms).\n",
            "  warnings.warn(msg, FutureWarning)\n"
          ],
          "name": "stderr"
        },
        {
          "output_type": "display_data",
          "data": {
            "image/png": "[encoded data removed]",
            "text/plain": [
              "<Figure size 1152x288 with 1 Axes>"
            ]
          },
          "metadata": {
            "tags": [],
            "needs_background": "light"
          }
        }
      ]
    },
    {
      "cell_type": "markdown",
      "metadata": {
        "id": "rj1yzh66jF4w"
      },
      "source": [
        "If you look at the graph, the number of meteorites fallen to Earth is almost 0 till the year 1800. After that, there is some increase but it is very little. After 1900, the is a rapid increase in the number of meteorites fallen to Earth. \n",
        "\n",
        "Let's closely observe the period after 1900 to see the variation in the number of meteorites falling to Earth by creating another histogram."
      ]
    },
    {
      "cell_type": "code",
      "metadata": {
        "id": "_0HqVknjL2Dz",
        "colab": {
          "base_uri": "https://localhost:8080/",
          "height": 334
        },
        "outputId": "5dad04cc-1547-477f-cffb-3b859c299eef"
      },
      "source": [
        "# Student Action: Create a histogram to visualise the number of meteorites fallen after the year 1900 using the 'distplot()' function.\n",
        "after_1990_series = correct_lat_long_df.loc[(correct_lat_long_df['year']> 1900), 'year']\n",
        "\n",
        "plt.figure(figsize=(10,4))\n",
        "plt.grid()\n",
        "sns.distplot(after_1990_series, kde=False)\n",
        "plt.show()"
      ],
      "execution_count": 38,
      "outputs": [
        {
          "output_type": "stream",
          "text": [
            "/usr/local/lib/python3.7/dist-packages/seaborn/distributions.py:2557: FutureWarning: `distplot` is a deprecated function and will be removed in a future version. Please adapt your code to use either `displot` (a figure-level function with similar flexibility) or `histplot` (an axes-level function for histograms).\n",
            "  warnings.warn(msg, FutureWarning)\n"
          ],
          "name": "stderr"
        },
        {
          "output_type": "display_data",
          "data": {
            "image/png": "[encoded data removed]",
            "text/plain": [
              "<Figure size 720x288 with 1 Axes>"
            ]
          },
          "metadata": {
            "tags": [],
            "needs_background": "light"
          }
        }
      ]
    },
    {
      "cell_type": "markdown",
      "metadata": {
        "id": "ota6cXm6t78C"
      },
      "source": [
        "If you increase the size of the bins, the width of the bars will decrease whereas if you decrease the size of the bins, the width of the bars will increase.\n"
      ]
    },
    {
      "cell_type": "code",
      "metadata": {
        "id": "WdFD32CbmWop",
        "colab": {
          "base_uri": "https://localhost:8080/",
          "height": 335
        },
        "outputId": "1d4e1408-a7bc-4495-e640-f8d7c61735e4"
      },
      "source": [
        "# Student Action: Set the bins size equal to 25 in the previous histogram.\n",
        "plt.figure(figsize=(10,4))\n",
        "plt.grid()\n",
        "sns.distplot(after_1990_series, kde=False, bins=25)\n",
        "plt.show()"
      ],
      "execution_count": 39,
      "outputs": [
        {
          "output_type": "stream",
          "text": [
            "/usr/local/lib/python3.7/dist-packages/seaborn/distributions.py:2557: FutureWarning: `distplot` is a deprecated function and will be removed in a future version. Please adapt your code to use either `displot` (a figure-level function with similar flexibility) or `histplot` (an axes-level function for histograms).\n",
            "  warnings.warn(msg, FutureWarning)\n"
          ],
          "name": "stderr"
        },
        {
          "output_type": "display_data",
          "data": {
            "image/png": "[encoded data removed]",
            "text/plain": [
              "<Figure size 720x288 with 1 Axes>"
            ]
          },
          "metadata": {
            "tags": [],
            "needs_background": "light"
          }
        }
      ]
    },
    {
      "cell_type": "code",
      "metadata": {
        "id": "6ZtBae1tu4DV",
        "colab": {
          "base_uri": "https://localhost:8080/",
          "height": 334
        },
        "outputId": "6ebd794f-335c-40b2-a0c7-1dc12868d575"
      },
      "source": [
        "# Student Action: Set the bins size equal to 100 in the previous histogram.\n",
        "plt.figure(figsize=(10,4))\n",
        "plt.grid()\n",
        "sns.distplot(after_1990_series, kde=False,bins=100)\n",
        "plt.show()"
      ],
      "execution_count": 40,
      "outputs": [
        {
          "output_type": "stream",
          "text": [
            "/usr/local/lib/python3.7/dist-packages/seaborn/distributions.py:2557: FutureWarning: `distplot` is a deprecated function and will be removed in a future version. Please adapt your code to use either `displot` (a figure-level function with similar flexibility) or `histplot` (an axes-level function for histograms).\n",
            "  warnings.warn(msg, FutureWarning)\n"
          ],
          "name": "stderr"
        },
        {
          "output_type": "display_data",
          "data": {
            "image/png": "[encoded data removed]",
            "text/plain": [
              "<Figure size 720x288 with 1 Axes>"
            ]
          },
          "metadata": {
            "tags": [],
            "needs_background": "light"
          }
        }
      ]
    },
    {
      "cell_type": "markdown",
      "metadata": {
        "id": "icaFkNH-SciQ"
      },
      "source": [
        "---"
      ]
    },
    {
      "cell_type": "markdown",
      "metadata": {
        "id": "E1dRYFoRzSp_"
      },
      "source": [
        "#### Activity 5: Meteorite Class-wise Histograms^^^\n",
        "\n",
        "Let's create a meteorite class-wise histogram to observe the trend of the fall of meteorites belonging to a class. But first let's find out the number of unqiue class of meteorites present in the dataset and the count of their falls."
      ]
    },
    {
      "cell_type": "code",
      "metadata": {
        "id": "9U3xbkhsd5rw",
        "colab": {
          "base_uri": "https://localhost:8080/"
        },
        "outputId": "0eb3e4c3-da49-41ad-84ec-7b86b7cb78b7"
      },
      "source": [
        "# Student Action: Calcuate the number of unique class of meteorites.\n",
        "len(correct_lat_long_df['recclass'].unique())"
      ],
      "execution_count": 41,
      "outputs": [
        {
          "output_type": "execute_result",
          "data": {
            "text/plain": [
              "394"
            ]
          },
          "metadata": {
            "tags": []
          },
          "execution_count": 41
        }
      ]
    },
    {
      "cell_type": "markdown",
      "metadata": {
        "id": "VnX6b45R0fqe"
      },
      "source": [
        "So there are 394 different class of meteorites. Let's compute the counts for each class of meteorite using the `value_counts()` function."
      ]
    },
    {
      "cell_type": "code",
      "metadata": {
        "id": "zT4HRB2ld9kI"
      },
      "source": [
        "# Student Action: Count of the fall of the different class of meteorites.\n",
        "class_falling = correct_lat_long_df['recclass'].value_counts()\n"
      ],
      "execution_count": 42,
      "outputs": []
    },
    {
      "cell_type": "markdown",
      "metadata": {
        "id": "LWw5dZk4GnG9"
      },
      "source": [
        "The `value_counts()` function returns a Pandas series. Let's store the series in a variable to do the further analysis."
      ]
    },
    {
      "cell_type": "code",
      "metadata": {
        "id": "MxveeXXCeThX"
      },
      "source": [
        "# Student Action: Store the 'correct_lat_long_df['recclass'].value_counts()' Pandas series in a new variable.\n"
      ],
      "execution_count": 43,
      "outputs": []
    },
    {
      "cell_type": "markdown",
      "metadata": {
        "id": "SLI4XWSk0qm4"
      },
      "source": [
        "Since there are 394 unique meteorite classes, it's not really too useful to create a histogram for every single one of them. Let's create a histogram for the top ten class of meteorites to see if there is any kind of similarity in the pattern of their falls."
      ]
    },
    {
      "cell_type": "code",
      "metadata": {
        "id": "dt8j4JGNese-",
        "colab": {
          "base_uri": "https://localhost:8080/"
        },
        "outputId": "5bedb083-cb19-4281-99f8-39ad6c4c2245"
      },
      "source": [
        "# Student Action: Display the top 10 most number of class of meteorites fallen on Earth.\n",
        "class_falling.index[0:10]"
      ],
      "execution_count": 44,
      "outputs": [
        {
          "output_type": "execute_result",
          "data": {
            "text/plain": [
              "Index(['L6', 'H5', 'H4', 'H6', 'L5', 'LL5', 'LL6', 'L4', 'H4/5', 'CM2'], dtype='object')"
            ]
          },
          "metadata": {
            "tags": []
          },
          "execution_count": 44
        }
      ]
    },
    {
      "cell_type": "markdown",
      "metadata": {
        "id": "5yBhlS4dHC8s"
      },
      "source": [
        "Let's plot the histograms for the top 10 most number of fallen meteorite classes using the `hist()` function. Make sure that each histogram has exactly 50 bins."
      ]
    },
    {
      "cell_type": "code",
      "metadata": {
        "id": "AO_UfL7gfE5w",
        "colab": {
          "base_uri": "https://localhost:8080/",
          "height": 1000
        },
        "outputId": "b09f1dad-9035-46fd-f130-ceac55817b0f"
      },
      "source": [
        "# Teacher Action: Plot the histograms for the top 10 most number of fallen meteorite classes using the 'hist()' function.\n",
        "for x in class_falling.index[0:10]:\n",
        "  plt.figure(figsize=(16,4))\n",
        "  sns.distplot(correct_lat_long_df.loc[(correct_lat_long_df['year']>=1900)&(correct_lat_long_df['recclass']==x),'year'],kde=False)\n",
        "  plt.show()"
      ],
      "execution_count": 47,
      "outputs": [
        {
          "output_type": "stream",
          "text": [
            "/usr/local/lib/python3.7/dist-packages/seaborn/distributions.py:2557: FutureWarning: `distplot` is a deprecated function and will be removed in a future version. Please adapt your code to use either `displot` (a figure-level function with similar flexibility) or `histplot` (an axes-level function for histograms).\n",
            "  warnings.warn(msg, FutureWarning)\n"
          ],
          "name": "stderr"
        },
        {
          "output_type": "display_data",
          "data": {
            "image/png": "[encoded data removed]",
            "text/plain": [
              "<Figure size 1152x288 with 1 Axes>"
            ]
          },
          "metadata": {
            "tags": [],
            "needs_background": "light"
          }
        },
        {
          "output_type": "stream",
          "text": [
            "/usr/local/lib/python3.7/dist-packages/seaborn/distributions.py:2557: FutureWarning: `distplot` is a deprecated function and will be removed in a future version. Please adapt your code to use either `displot` (a figure-level function with similar flexibility) or `histplot` (an axes-level function for histograms).\n",
            "  warnings.warn(msg, FutureWarning)\n"
          ],
          "name": "stderr"
        },
        {
          "output_type": "display_data",
          "data": {
            "image/png": "[encoded data removed]",
            "text/plain": [
              "<Figure size 1152x288 with 1 Axes>"
            ]
          },
          "metadata": {
            "tags": [],
            "needs_background": "light"
          }
        },
        {
          "output_type": "stream",
          "text": [
            "/usr/local/lib/python3.7/dist-packages/seaborn/distributions.py:2557: FutureWarning: `distplot` is a deprecated function and will be removed in a future version. Please adapt your code to use either `displot` (a figure-level function with similar flexibility) or `histplot` (an axes-level function for histograms).\n",
            "  warnings.warn(msg, FutureWarning)\n"
          ],
          "name": "stderr"
        },
        {
          "output_type": "display_data",
          "data": {
            "image/png": "[encoded data removed]",
            "text/plain": [
              "<Figure size 1152x288 with 1 Axes>"
            ]
          },
          "metadata": {
            "tags": [],
            "needs_background": "light"
          }
        },
        {
          "output_type": "stream",
          "text": [
            "/usr/local/lib/python3.7/dist-packages/seaborn/distributions.py:2557: FutureWarning: `distplot` is a deprecated function and will be removed in a future version. Please adapt your code to use either `displot` (a figure-level function with similar flexibility) or `histplot` (an axes-level function for histograms).\n",
            "  warnings.warn(msg, FutureWarning)\n"
          ],
          "name": "stderr"
        },
        {
          "output_type": "display_data",
          "data": {
            "image/png": "[encoded data removed]",
            "text/plain": [
              "<Figure size 1152x288 with 1 Axes>"
            ]
          },
          "metadata": {
            "tags": [],
            "needs_background": "light"
          }
        },
        {
          "output_type": "stream",
          "text": [
            "/usr/local/lib/python3.7/dist-packages/seaborn/distributions.py:2557: FutureWarning: `distplot` is a deprecated function and will be removed in a future version. Please adapt your code to use either `displot` (a figure-level function with similar flexibility) or `histplot` (an axes-level function for histograms).\n",
            "  warnings.warn(msg, FutureWarning)\n"
          ],
          "name": "stderr"
        },
        {
          "output_type": "display_data",
          "data": {
            "image/png": "[encoded data removed]",
            "text/plain": [
              "<Figure size 1152x288 with 1 Axes>"
            ]
          },
          "metadata": {
            "tags": [],
            "needs_background": "light"
          }
        },
        {
          "output_type": "stream",
          "text": [
            "/usr/local/lib/python3.7/dist-packages/seaborn/distributions.py:2557: FutureWarning: `distplot` is a deprecated function and will be removed in a future version. Please adapt your code to use either `displot` (a figure-level function with similar flexibility) or `histplot` (an axes-level function for histograms).\n",
            "  warnings.warn(msg, FutureWarning)\n"
          ],
          "name": "stderr"
        },
        {
          "output_type": "display_data",
          "data": {
            "image/png": "[encoded data removed]",
            "text/plain": [
              "<Figure size 1152x288 with 1 Axes>"
            ]
          },
          "metadata": {
            "tags": [],
            "needs_background": "light"
          }
        },
        {
          "output_type": "stream",
          "text": [
            "/usr/local/lib/python3.7/dist-packages/seaborn/distributions.py:2557: FutureWarning: `distplot` is a deprecated function and will be removed in a future version. Please adapt your code to use either `displot` (a figure-level function with similar flexibility) or `histplot` (an axes-level function for histograms).\n",
            "  warnings.warn(msg, FutureWarning)\n"
          ],
          "name": "stderr"
        },
        {
          "output_type": "display_data",
          "data": {
            "image/png": "[encoded data removed]",
            "text/plain": [
              "<Figure size 1152x288 with 1 Axes>"
            ]
          },
          "metadata": {
            "tags": [],
            "needs_background": "light"
          }
        },
        {
          "output_type": "stream",
          "text": [
            "/usr/local/lib/python3.7/dist-packages/seaborn/distributions.py:2557: FutureWarning: `distplot` is a deprecated function and will be removed in a future version. Please adapt your code to use either `displot` (a figure-level function with similar flexibility) or `histplot` (an axes-level function for histograms).\n",
            "  warnings.warn(msg, FutureWarning)\n"
          ],
          "name": "stderr"
        },
        {
          "output_type": "display_data",
          "data": {
            "image/png": "[encoded data removed]",
            "text/plain": [
              "<Figure size 1152x288 with 1 Axes>"
            ]
          },
          "metadata": {
            "tags": [],
            "needs_background": "light"
          }
        },
        {
          "output_type": "stream",
          "text": [
            "/usr/local/lib/python3.7/dist-packages/seaborn/distributions.py:2557: FutureWarning: `distplot` is a deprecated function and will be removed in a future version. Please adapt your code to use either `displot` (a figure-level function with similar flexibility) or `histplot` (an axes-level function for histograms).\n",
            "  warnings.warn(msg, FutureWarning)\n"
          ],
          "name": "stderr"
        },
        {
          "output_type": "display_data",
          "data": {
            "image/png": "[encoded data removed]",
            "text/plain": [
              "<Figure size 1152x288 with 1 Axes>"
            ]
          },
          "metadata": {
            "tags": [],
            "needs_background": "light"
          }
        },
        {
          "output_type": "stream",
          "text": [
            "/usr/local/lib/python3.7/dist-packages/seaborn/distributions.py:2557: FutureWarning: `distplot` is a deprecated function and will be removed in a future version. Please adapt your code to use either `displot` (a figure-level function with similar flexibility) or `histplot` (an axes-level function for histograms).\n",
            "  warnings.warn(msg, FutureWarning)\n"
          ],
          "name": "stderr"
        },
        {
          "output_type": "display_data",
          "data": {
            "image/png": "[encoded data removed]",
            "text/plain": [
              "<Figure size 1152x288 with 1 Axes>"
            ]
          },
          "metadata": {
            "tags": [],
            "needs_background": "light"
          }
        }
      ]
    },
    {
      "cell_type": "markdown",
      "metadata": {
        "id": "77Ob_q--3MSB"
      },
      "source": [
        "There is no definite recognisable pattern in the fall of the meteorites over the years for a class of a meteorite. \n",
        "\n",
        "The only concrete observation that we can make from the histograms is that the most number of `LL5` class meteorites fell between the years 1995 and 2005 and the most number of the `H4/5` class meteorites fell between the years 1975 and 1980. \n",
        "\n",
        "That's it for now. In the next class, we will learn how to add additional information such as the counts of the meteorites in the histograms and count plots."
      ]
    },
    {
      "cell_type": "markdown",
      "metadata": {
        "id": "jFTqSsa6UuZA"
      },
      "source": [
        "---"
      ]
    }
  ]
}